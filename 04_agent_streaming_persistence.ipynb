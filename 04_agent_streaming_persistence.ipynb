{
 "cells": [
  {
   "cell_type": "markdown",
   "id": "b5789bc3-b1ae-42c7-94a8-2ef4f89946fc",
   "metadata": {},
   "source": [
    "# Persistence and Streaming"
   ]
  },
  {
   "cell_type": "code",
   "execution_count": 67,
   "id": "f5762271-8736-4e94-9444-8c92bd0e8074",
   "metadata": {
    "height": 64
   },
   "outputs": [],
   "source": [
    "import os\n",
    "import time\n",
    "from dotenv import load_dotenv\n",
    "_ = load_dotenv()\n",
    "api_key = os.getenv(\"API_KEY\")"
   ]
  },
  {
   "cell_type": "code",
   "execution_count": 58,
   "id": "d0168aee-bce9-4d60-b827-f86a88187e31",
   "metadata": {
    "height": 115
   },
   "outputs": [],
   "source": [
    "from contextlib import contextmanager\n",
    "from langgraph.graph import StateGraph, END\n",
    "from typing import TypedDict, Annotated\n",
    "import operator\n",
    "from langchain_core.messages import AnyMessage, SystemMessage, HumanMessage, ToolMessage\n",
    "from langchain_google_genai import ChatGoogleGenerativeAI\n",
    "from langchain_community.tools.tavily_search import TavilySearchResults\n",
    "from langgraph.checkpoint.sqlite import SqliteSaver"
   ]
  },
  {
   "cell_type": "code",
   "execution_count": 3,
   "id": "da06a64f-a2d5-4a66-8090-9ada0930c684",
   "metadata": {
    "height": 30
   },
   "outputs": [],
   "source": [
    "tool = TavilySearchResults(max_results=2)"
   ]
  },
  {
   "cell_type": "markdown",
   "id": "0b9dfe4d",
   "metadata": {},
   "source": [
    "Define the agent's state structure, which holds the messages exchanged.\n"
   ]
  },
  {
   "cell_type": "code",
   "execution_count": 8,
   "id": "2589c5b6-6cc2-4594-9a17-dccdcf676054",
   "metadata": {
    "height": 47
   },
   "outputs": [],
   "source": [
    "class AgentState(TypedDict):\n",
    "    messages: Annotated[list[AnyMessage], operator.add]"
   ]
  },
  {
   "cell_type": "code",
   "execution_count": 59,
   "id": "a2ba84ec-c172-4de7-ac55-e3158a531b23",
   "metadata": {
    "height": 574
   },
   "outputs": [],
   "source": [
    "class Agent:\n",
    "    def __init__(self, model, tools, checkpointer, system=\"\"):\n",
    "        self.system = system\n",
    "        graph = StateGraph(AgentState)\n",
    "        graph.add_node(\"llm\", self.call_openai)\n",
    "        graph.add_node(\"action\", self.take_action)\n",
    "        graph.add_conditional_edges(\"llm\", self.exists_action, {True: \"action\", False: END})\n",
    "        graph.add_edge(\"action\", \"llm\")\n",
    "        graph.set_entry_point(\"llm\")\n",
    "        self.graph = graph.compile(checkpointer=checkpointer)\n",
    "        self.tools = {t.name: t for t in tools}\n",
    "        self.model = model.bind_tools(tools)\n",
    "\n",
    "    @contextmanager\n",
    "    def get_checkpointer(self):\n",
    "        with SqliteSaver.from_conn_string(self.db_path) as checkpointer:\n",
    "            yield checkpointer\n",
    "\n",
    "    def call_openai(self, state: AgentState):\n",
    "        messages = state['messages']\n",
    "        if self.system:\n",
    "            messages = [SystemMessage(content=self.system)] + messages\n",
    "        message = self.model.invoke(messages)\n",
    "        return {'messages': [message]}\n",
    "\n",
    "    def exists_action(self, state: AgentState):\n",
    "        result = state['messages'][-1]\n",
    "        return len(result.tool_calls) > 0\n",
    "\n",
    "    def take_action(self, state: AgentState):\n",
    "        tool_calls = state['messages'][-1].tool_calls\n",
    "        results = []\n",
    "        for t in tool_calls:\n",
    "            print(f\"Calling: {t}\")\n",
    "            result = self.tools[t['name']].invoke(t['args'])\n",
    "            results.append(ToolMessage(tool_call_id=t['id'], name=t['name'], content=str(result)))\n",
    "        print(\"Back to the model!\")\n",
    "        return {'messages': results}"
   ]
  },
  {
   "cell_type": "code",
   "execution_count": 68,
   "id": "876d5092-b8ef-4e38-b4d7-0e80c609bf7a",
   "metadata": {
    "height": 132
   },
   "outputs": [
    {
     "name": "stdout",
     "output_type": "stream",
     "text": [
      "[AIMessage(content='', additional_kwargs={'function_call': {'name': 'tavily_search_results_json', 'arguments': '{\"query\": \"weather in san francisco\"}'}}, response_metadata={'prompt_feedback': {'block_reason': 0, 'safety_ratings': []}, 'finish_reason': 'STOP', 'safety_ratings': []}, id='run-b1e07252-d757-43cb-8670-4edd3376bd20-0', tool_calls=[{'name': 'tavily_search_results_json', 'args': {'query': 'weather in san francisco'}, 'id': 'c19b6b33-312e-4acc-8274-ddc949141b44', 'type': 'tool_call'}], usage_metadata={'input_tokens': 147, 'output_tokens': 13, 'total_tokens': 160, 'input_token_details': {'cache_read': 0}})]\n",
      "Calling: {'name': 'tavily_search_results_json', 'args': {'query': 'weather in san francisco'}, 'id': 'c19b6b33-312e-4acc-8274-ddc949141b44', 'type': 'tool_call'}\n",
      "Back to the model!\n",
      "[ToolMessage(content='[{\\'url\\': \\'https://www.weatherapi.com/\\', \\'content\\': \"{\\'location\\': {\\'name\\': \\'San Francisco\\', \\'region\\': \\'California\\', \\'country\\': \\'United States of America\\', \\'lat\\': 37.775, \\'lon\\': -122.4183, \\'tz_id\\': \\'America/Los_Angeles\\', \\'localtime_epoch\\': 1736615967, \\'localtime\\': \\'2025-01-11 09:19\\'}, \\'current\\': {\\'last_updated_epoch\\': 1736615700, \\'last_updated\\': \\'2025-01-11 09:15\\', \\'temp_c\\': 9.6, \\'temp_f\\': 49.3, \\'is_day\\': 1, \\'condition\\': {\\'text\\': \\'Sunny\\', \\'icon\\': \\'//cdn.weatherapi.com/weather/64x64/day/113.png\\', \\'code\\': 1000}, \\'wind_mph\\': 6.7, \\'wind_kph\\': 10.8, \\'wind_degree\\': 3, \\'wind_dir\\': \\'N\\', \\'pressure_mb\\': 1026.0, \\'pressure_in\\': 30.29, \\'precip_mm\\': 0.0, \\'precip_in\\': 0.0, \\'humidity\\': 54, \\'cloud\\': 0, \\'feelslike_c\\': 7.5, \\'feelslike_f\\': 45.5, \\'windchill_c\\': 7.5, \\'windchill_f\\': 45.5, \\'heatindex_c\\': 9.6, \\'heatindex_f\\': 49.3, \\'dewpoint_c\\': 0.9, \\'dewpoint_f\\': 33.6, \\'vis_km\\': 10.0, \\'vis_miles\\': 6.0, \\'uv\\': 0.6, \\'gust_mph\\': 12.0, \\'gust_kph\\': 19.3}}\"}, {\\'url\\': \\'https://www.extremeweatherwatch.com/cities/san-francisco/year-2025\\', \\'content\\': \"Historical record of San Francisco, California weather for the year 2025 based on NOAA data. | Highest temperature | 54 °F | January 1 | | Lowest temperature | 45 °F | January 1 | What\\'s the hottest temperature in San Francisco so far this year? As of January 1, the highest temperature recorded in San Francisco, California in 2025 is 54 °F which happened on January 1. Highest Temperatures in San Francisco in 2025 What\\'s the coldest temperature in San Francisco so far this year? As of January 1, the lowest temperature recorded in San Francisco, California in 2025 is 45 °F which happened on Jan 1. Lowest Temperatures in San Francisco in 2025 January 2025 San Francisco Weather\"}]', name='tavily_search_results_json', tool_call_id='c19b6b33-312e-4acc-8274-ddc949141b44')]\n",
      "[AIMessage(content='The weather in San Francisco is sunny with a temperature of 9.6°C (49.3°F). The wind is blowing from the north at 6.7 mph (10.8 kph). The humidity is 54% and there is no cloud cover.  The UV index is 0.6.', additional_kwargs={}, response_metadata={'prompt_feedback': {'block_reason': 0, 'safety_ratings': []}, 'finish_reason': 'STOP', 'safety_ratings': []}, id='run-2586c11f-36d6-43fa-9b98-354c92f8132d-0', usage_metadata={'input_tokens': 942, 'output_tokens': 71, 'total_tokens': 1013, 'input_token_details': {'cache_read': 0}})]\n",
      "\n",
      "----\n",
      "\n",
      "{'messages': [AIMessage(content='', additional_kwargs={'function_call': {'name': 'tavily_search_results_json', 'arguments': '{\"query\": \"weather in los angeles\"}'}}, response_metadata={'prompt_feedback': {'block_reason': 0, 'safety_ratings': []}, 'finish_reason': 'STOP', 'safety_ratings': []}, id='run-e44e1804-bd5d-49de-816e-abe077ee9c63-0', tool_calls=[{'name': 'tavily_search_results_json', 'args': {'query': 'weather in los angeles'}, 'id': '08bbc533-c08c-4aa0-896e-6fd8c39c9b83', 'type': 'tool_call'}], usage_metadata={'input_tokens': 1019, 'output_tokens': 13, 'total_tokens': 1032, 'input_token_details': {'cache_read': 0}})]}\n",
      "Calling: {'name': 'tavily_search_results_json', 'args': {'query': 'weather in los angeles'}, 'id': '08bbc533-c08c-4aa0-896e-6fd8c39c9b83', 'type': 'tool_call'}\n",
      "Back to the model!\n",
      "{'messages': [ToolMessage(content='[{\\'url\\': \\'https://www.weatherapi.com/\\', \\'content\\': \"{\\'location\\': {\\'name\\': \\'Los Angeles\\', \\'region\\': \\'California\\', \\'country\\': \\'United States of America\\', \\'lat\\': 34.0522, \\'lon\\': -118.2428, \\'tz_id\\': \\'America/Los_Angeles\\', \\'localtime_epoch\\': 1736613436, \\'localtime\\': \\'2025-01-11 08:37\\'}, \\'current\\': {\\'last_updated_epoch\\': 1736613000, \\'last_updated\\': \\'2025-01-11 08:30\\', \\'temp_c\\': 10.6, \\'temp_f\\': 51.1, \\'is_day\\': 1, \\'condition\\': {\\'text\\': \\'Sunny\\', \\'icon\\': \\'//cdn.weatherapi.com/weather/64x64/day/113.png\\', \\'code\\': 1000}, \\'wind_mph\\': 3.8, \\'wind_kph\\': 6.1, \\'wind_degree\\': 90, \\'wind_dir\\': \\'E\\', \\'pressure_mb\\': 1019.0, \\'pressure_in\\': 30.1, \\'precip_mm\\': 0.0, \\'precip_in\\': 0.0, \\'humidity\\': 38, \\'cloud\\': 0, \\'feelslike_c\\': 10.1, \\'feelslike_f\\': 50.2, \\'windchill_c\\': 9.3, \\'windchill_f\\': 48.8, \\'heatindex_c\\': 10.1, \\'heatindex_f\\': 50.2, \\'dewpoint_c\\': -5.0, \\'dewpoint_f\\': 23.1, \\'vis_km\\': 13.0, \\'vis_miles\\': 8.0, \\'uv\\': 0.1, \\'gust_mph\\': 6.6, \\'gust_kph\\': 10.6}}\"}, {\\'url\\': \\'https://www.weather25.com/north-america/usa?page=date&date=11-1\\', \\'content\\': \\'United States weather forecast for Saturday, 11 January 2025 United States weather forecast for Saturday, 11 January 2025 This was the average weather in the United States during January 11 in recent years. Weather in the United States during the last few years on January 11 | 2024 - January 11 | 6 ° / 0 ° | 0.0 mm |  | 2023 - January 11 | 4 ° / 0 ° | 0 mm |  Cities in the United States More about the weather in the United States United States 14 day weather Long range weather for United States United States weather in November United States weather in December Weather tomorrow Hotels in the United States\\'}]', name='tavily_search_results_json', tool_call_id='08bbc533-c08c-4aa0-896e-6fd8c39c9b83')]}\n"
     ]
    },
    {
     "name": "stderr",
     "output_type": "stream",
     "text": [
      "Retrying langchain_google_genai.chat_models._chat_with_retry.<locals>._chat_with_retry in 2.0 seconds as it raised ResourceExhausted: 429 Resource has been exhausted (e.g. check quota)..\n"
     ]
    },
    {
     "name": "stdout",
     "output_type": "stream",
     "text": [
      "{'messages': [AIMessage(content='The weather in Los Angeles is sunny with a temperature of 10.6°C (51.1°F). The wind is blowing from the east at 3.8 mph (6.1 kph). The humidity is 38% and there is no cloud cover. The UV index is 0.1.', additional_kwargs={}, response_metadata={'prompt_feedback': {'block_reason': 0, 'safety_ratings': []}, 'finish_reason': 'STOP', 'safety_ratings': []}, id='run-60509f96-8b15-4a07-b501-4ddd74808f72-0', usage_metadata={'input_tokens': 1803, 'output_tokens': 70, 'total_tokens': 1873, 'input_token_details': {'cache_read': 0}})]}\n",
      "\n",
      "----\n",
      "\n",
      "{'messages': [AIMessage(content='Los Angeles is warmer than San Francisco.  The temperature in Los Angeles is 10.6°C (51.1°F) while in San Francisco it is 9.6°C (49.3°F).', additional_kwargs={}, response_metadata={'prompt_feedback': {'block_reason': 0, 'safety_ratings': []}, 'finish_reason': 'STOP', 'safety_ratings': []}, id='run-19d25cef-53fe-4c7f-9d84-a8df3607e122-0', usage_metadata={'input_tokens': 1879, 'output_tokens': 51, 'total_tokens': 1930, 'input_token_details': {'cache_read': 0}})]}\n",
      "\n",
      "----\n",
      "\n",
      "{'messages': [AIMessage(content='Warmer than what?', additional_kwargs={}, response_metadata={'prompt_feedback': {'block_reason': 0, 'safety_ratings': []}, 'finish_reason': 'STOP', 'safety_ratings': []}, id='run-6ccbf29e-4fbb-41eb-8ed8-c1c7c955666b-0', usage_metadata={'input_tokens': 145, 'output_tokens': 6, 'total_tokens': 151, 'input_token_details': {'cache_read': 0}})]}\n"
     ]
    }
   ],
   "source": [
    "prompt = \"\"\"You are a smart research assistant. Use the search engine to look up information. \\\n",
    "You are allowed to make multiple calls (either together or in sequence). \\\n",
    "Only look up information when you are sure of what you want. \\\n",
    "If you need to look up some information before asking a follow up question, you are allowed to do that!\n",
    "\"\"\"\n",
    "model = ChatGoogleGenerativeAI(api_key=api_key, model=\"gemini-1.5-pro\")\n",
    "# abot = Agent(model, [tool], system=prompt)\n",
    "\n",
    "\n",
    "# Initialize an in-memory checkpoint saver (SQLite) to store the agent's state. This is used for persistence.\n",
    "# Using the checkpointer within a context manager (SqliteSaver)\n",
    "\n",
    "with SqliteSaver.from_conn_string(\":memory:\") as memory:\n",
    "    abot = Agent(model, [tool], system=prompt, checkpointer=memory)\n",
    "\n",
    "    # Initial message\n",
    "    messages = [HumanMessage(content=\"What is the weather in sf?\")]\n",
    "\n",
    "    # Define the thread configuration (thread ID for conversation persistence)\n",
    "    thread = {\"configurable\": {\"thread_id\": \"1\"}}\n",
    "\n",
    "    for event in abot.graph.stream({\"messages\": messages}, thread):\n",
    "        for v in event.values():\n",
    "            print(v['messages'])\n",
    "    time.sleep(30)\n",
    "    print(\"\\n----\\n\")\n",
    "\n",
    "    # Continue conversation\n",
    "    messages = [HumanMessage(content=\"What about in la?\")]\n",
    "    thread = {\"configurable\": {\"thread_id\": \"1\"}}\n",
    "    for event in abot.graph.stream({\"messages\": messages}, thread):\n",
    "        for v in event.values():\n",
    "            print(v)\n",
    "    time.sleep(30)\n",
    "    print(\"\\n----\\n\")\n",
    "\n",
    "    # Another follow-up question with the same thread ID to keep the conversation going.\n",
    "    messages = [HumanMessage(content=\"Which one is warmer?\")]\n",
    "    thread = {\"configurable\": {\"thread_id\": \"1\"}}\n",
    "    for event in abot.graph.stream({\"messages\": messages}, thread):\n",
    "        for v in event.values():\n",
    "            print(v)\n",
    "    time.sleep(30)\n",
    "    print(\"\\n----\\n\")\n",
    "\n",
    "\n",
    "    # If the thread ID is changed, the agent will lose memory of previous interactions.\n",
    "    messages = [HumanMessage(content=\"Which one is warmer?\")]\n",
    "    thread = {\"configurable\": {\"thread_id\": \"2\"}}  # New thread ID means no prior context.\n",
    "    for event in abot.graph.stream({\"messages\": messages}, thread):\n",
    "        for v in event.values():\n",
    "            print(v)  # Stream the response, showing how the agent loses context.\n"
   ]
  },
  {
   "cell_type": "markdown",
   "id": "ace59a36-3941-459e-b9d1-ac5a4a1ed3ae",
   "metadata": {},
   "source": [
    "## Streaming tokens"
   ]
  },
  {
   "cell_type": "code",
   "execution_count": 71,
   "id": "6b2f82fe-3ec4-4917-be51-9fb10d1317fa",
   "metadata": {
    "height": 81
   },
   "outputs": [],
   "source": [
    "# Using async version of the SQLite checkpointer for token streaming.\n",
    "from langgraph.checkpoint.sqlite.aio import AsyncSqliteSaver\n",
    "\n",
    "memory = AsyncSqliteSaver.from_conn_string(\":memory:\")\n",
    "abot = Agent(model, [tool], system=prompt, checkpointer=memory)"
   ]
  },
  {
   "cell_type": "code",
   "execution_count": null,
   "id": "ee0fe1c7-77e2-499c-a2f9-1f739bb6ddf0",
   "metadata": {
    "height": 200
   },
   "outputs": [
    {
     "name": "stdout",
     "output_type": "stream",
     "text": [
      "Calling: {'name': 'tavily_search_results_json', 'args': {'query': 'weather in san francisco'}, 'id': '0ed5061d-cc61-400b-91e3-3e8f1ddfcbec', 'type': 'tool_call'}\n",
      "Back to the model!\n",
      "The| weather in San Francisco is partly cloudy with a temperature of 12.2|°C (54°F). The wind is blowing from the NNW| at 12.2 km/h.  The humidity is 37%.|"
     ]
    }
   ],
   "source": [
    "async with AsyncSqliteSaver.from_conn_string(\":memory:\") as memory:\n",
    "\n",
    "    abot = Agent(model, [tool], system=prompt, checkpointer=memory)\n",
    "\n",
    "    # Stream tokens asynchronously, printing each token as it is generated.\n",
    "    messages = [HumanMessage(content=\"What is the weather in SF?\")]\n",
    "    thread = {\"configurable\": {\"thread_id\": \"4\"}}       # New thread ID for a fresh conversation.\n",
    "    async for event in abot.graph.astream_events({\"messages\": messages}, thread, version=\"v1\"):\n",
    "        kind = event[\"event\"]\n",
    "        if kind == \"on_chat_model_stream\":\n",
    "            content = event[\"data\"][\"chunk\"].content    # Extract the generated token content.\n",
    "            if content:\n",
    "                # Only print non-empty content,\n",
    "                # as empty content indicates the model is requesting a tool invocation.\n",
    "                print(content, end=\"|\")                 # Print token with a pipe delimiter for visual separation."
   ]
  }
 ],
 "metadata": {
  "kernelspec": {
   "display_name": "myenv",
   "language": "python",
   "name": "python3"
  },
  "language_info": {
   "codemirror_mode": {
    "name": "ipython",
    "version": 3
   },
   "file_extension": ".py",
   "mimetype": "text/x-python",
   "name": "python",
   "nbconvert_exporter": "python",
   "pygments_lexer": "ipython3",
   "version": "3.12.3"
  }
 },
 "nbformat": 4,
 "nbformat_minor": 5
}
