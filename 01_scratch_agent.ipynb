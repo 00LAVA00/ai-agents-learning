{
 "cells": [
  {
   "cell_type": "markdown",
   "id": "44380aa3",
   "metadata": {},
   "source": [
    "### Simple ReAct Agent from Scratch"
   ]
  },
  {
   "cell_type": "code",
   "execution_count": 10,
   "id": "d56c2da8",
   "metadata": {},
   "outputs": [],
   "source": [
    "import os\n",
    "import re\n",
    "import google.generativeai as genai\n",
    "from google.generativeai import GenerationConfig\n",
    "from dotenv import load_dotenv\n"
   ]
  },
  {
   "cell_type": "markdown",
   "id": "263025b3",
   "metadata": {},
   "source": [
    "#####  1. Initialize Gemini Client"
   ]
  },
  {
   "cell_type": "code",
   "execution_count": 11,
   "id": "103fc41d",
   "metadata": {},
   "outputs": [
    {
     "name": "stdout",
     "output_type": "stream",
     "text": [
      "AI works by mimicking human cognitive functions, like learning, problem-solving, and decision-making, through algorithms and statistical models.  There's no single \"how\" because AI encompasses a broad range of techniques, but here's a breakdown of key aspects:\n",
      "\n",
      "**1. Data is King:**  AI systems learn from data.  The more relevant and high-quality data they're trained on, the better they perform. This data can be structured (like tables in a database) or unstructured (like images, text, or audio).\n",
      "\n",
      "**2. Algorithms: The Recipe for Intelligence:** Algorithms are sets of rules and instructions that tell the computer how to process the data.  Different algorithms are suited for different tasks. Some key types include:\n",
      "\n",
      "* **Machine Learning (ML):** This is a core component of many AI systems.  ML algorithms allow the system to learn patterns and make predictions from data without explicit programming.  Instead of being explicitly programmed, they learn from examples.  There are several types of ML:\n",
      "    * **Supervised Learning:** The algorithm is trained on a labeled dataset (data with known inputs and outputs).  The goal is to learn a mapping between inputs and outputs to make predictions on new, unseen data.  Examples include image classification (labeling images as \"cat\" or \"dog\") and spam detection.\n",
      "    * **Unsupervised Learning:** The algorithm is trained on an unlabeled dataset. The goal is to discover hidden patterns, structures, or groupings in the data.  Examples include clustering customers based on their purchasing behavior and dimensionality reduction.\n",
      "    * **Reinforcement Learning:** The algorithm learns through trial and error by interacting with an environment. It receives rewards for good actions and penalties for bad actions, learning to optimize its behavior to maximize rewards.  Examples include game playing (like AlphaGo) and robotics.\n",
      "\n",
      "* **Deep Learning (DL):** A subfield of ML that uses artificial neural networks with multiple layers (hence \"deep\"). These networks are inspired by the structure and function of the human brain. Deep learning excels at tasks involving complex patterns and large amounts of data, such as image recognition, natural language processing, and speech recognition.\n",
      "\n",
      "**3. Models: Representing Knowledge:**  The algorithm processes the data and creates a model, which is a mathematical representation of the patterns and relationships learned from the data. This model can then be used to make predictions or decisions on new data.\n",
      "\n",
      "**4. Inference/Prediction:** Once a model is trained, it can be used to make inferences or predictions on new, unseen data.  This is the stage where the AI system actually \"works\" – applying what it has learned to new situations.\n",
      "\n",
      "**5. Evaluation and Feedback:** The performance of the AI system is constantly evaluated using various metrics.  This feedback loop allows for continuous improvement and refinement of the model and algorithm.\n",
      "\n",
      "\n",
      "**In Simple Terms:** Imagine teaching a dog a trick. You show it (data), reward it when it does it right (reinforcement learning), and correct it when it's wrong (feedback). Eventually, the dog learns the trick (creates a model) and can perform it reliably (inference). AI works similarly, but instead of treats, it uses mathematical optimization and statistical measures.  The complexity arises from the scale and sophistication of the \"tricks\" AI systems learn.\n",
      "\n"
     ]
    }
   ],
   "source": [
    "# Load environment variables from .env file\n",
    "_ = load_dotenv()\n",
    "\n",
    "api_key = os.environ.get(\"API_KEY\")\n",
    "if not api_key:\n",
    "    raise ValueError(\"API_KEY not set.\")\n",
    "\n",
    "# Configure the Gemini client with the API key\n",
    "genai.configure(api_key=api_key)\n",
    "model = genai.GenerativeModel(\"gemini-1.5-flash\")\n",
    "\n",
    "response = model.generate_content(\"Explain how AI works\")\n",
    "print(response.text)"
   ]
  },
  {
   "cell_type": "markdown",
   "id": "6c5f68b1",
   "metadata": {},
   "source": [
    "##### 2. Available Actions for the Agent"
   ]
  },
  {
   "cell_type": "code",
   "execution_count": 12,
   "id": "dfb2ed53",
   "metadata": {
    "lines_to_next_cell": 2
   },
   "outputs": [],
   "source": [
    "def calculate(what):\n",
    "    return eval(what)\n",
    "\n",
    "def average_dog_weight(name):\n",
    "    if name == \"Scottish Terrier\":\n",
    "        return \"Scottish Terriers average 20 lbs\"\n",
    "    elif name == \"Border Collie\":\n",
    "        return \"a Border Collie's average weight is 37 lbs\"\n",
    "    elif name == \"Toy Poodle\":\n",
    "        return \"a Toy Poodle's average weight is 7 lbs\"\n",
    "    else:\n",
    "        return \"An average dog weighs 50 lbs\"\n",
    "\n",
    "known_actions = {\n",
    "    \"calculate\": calculate,\n",
    "    \"average_dog_weight\": average_dog_weight\n",
    "}\n"
   ]
  },
  {
   "cell_type": "markdown",
   "id": "fe9588a9",
   "metadata": {},
   "source": [
    "##### 3. Agent Class"
   ]
  },
  {
   "cell_type": "code",
   "execution_count": 13,
   "id": "bf49491c",
   "metadata": {},
   "outputs": [],
   "source": [
    "class Agent:\n",
    "    def __init__(self, system=\"\"):\n",
    "        self.messages = []\n",
    "        if system:\n",
    "            self.messages.append({\n",
    "                \"role\": \"user\",\n",
    "                \"parts\": [{\"text\": system}]\n",
    "            })\n",
    "\n",
    "    def __call__(self, message):\n",
    "        self.messages.append({\n",
    "            \"role\": \"user\",\n",
    "            \"parts\": [{\"text\": message}]\n",
    "        })\n",
    "        result = self.execute()\n",
    "        self.messages.append({\n",
    "            \"role\": \"model\",\n",
    "            \"parts\": [{\"text\": result}]\n",
    "        })\n",
    "        return result\n",
    "\n",
    "    def execute(self):\n",
    "        generation_config = GenerationConfig(\n",
    "            temperature=0,\n",
    "            max_output_tokens=2048,\n",
    "            top_p=1,\n",
    "            top_k=1\n",
    "        )\n",
    "\n",
    "        try:\n",
    "            response = model.generate_content(\n",
    "                contents=self.messages,\n",
    "                generation_config=generation_config\n",
    "            )\n",
    "            return response.text\n",
    "        except Exception as e:\n",
    "            return f\"Error: {str(e)}\"\n"
   ]
  },
  {
   "cell_type": "markdown",
   "id": "55a3c50e",
   "metadata": {},
   "source": [
    "#####  4. Prompt for the Agent"
   ]
  },
  {
   "cell_type": "code",
   "execution_count": 14,
   "id": "db1dc5e9",
   "metadata": {},
   "outputs": [],
   "source": [
    "prompt = \"\"\"\n",
    "You run in a loop of Thought, Action, PAUSE, Observation.\n",
    "At the end of the loop you output an Answer\n",
    "Use Thought to describe your thoughts about the question you have been asked.\n",
    "Use Action to run one of the actions available to you - then return PAUSE.\n",
    "Observation will be the result of running those actions.\n",
    "\n",
    "Your available actions are:\n",
    "\n",
    "calculate:\n",
    "e.g. calculate: 4 * 7 / 3\n",
    "Runs a calculation and returns the number - uses Python so be sure to use floating point syntax if necessary\n",
    "\n",
    "average_dog_weight:\n",
    "e.g. average_dog_weight: Collie\n",
    "returns average weight of a dog when given the breed\n",
    "\n",
    "Example session:\n",
    "\n",
    "Question: How much does a Bulldog weigh?\n",
    "Thought: I should look the dogs weight using average_dog_weight\n",
    "Action: average_dog_weight: Bulldog\n",
    "PAUSE\n",
    "\n",
    "You will be called again with this:\n",
    "\n",
    "Observation: A Bulldog weights 51 lbs\n",
    "\n",
    "You then output:\n",
    "\n",
    "Answer: A bulldog weights 51 lbs\n",
    "\"\"\".strip()\n",
    "\n"
   ]
  },
  {
   "cell_type": "markdown",
   "id": "b11e2a1b",
   "metadata": {},
   "source": [
    "##### 5. Query Function with Action Handling Loop"
   ]
  },
  {
   "cell_type": "code",
   "execution_count": 15,
   "id": "ac1f59d1",
   "metadata": {},
   "outputs": [],
   "source": [
    "# Action regex pattern\n",
    "action_re = re.compile(r'^Action: (\\w+): (.*)$')\n",
    "\n",
    "\n",
    "def query(question, max_turns=5):\n",
    "    i = 0\n",
    "    bot = Agent(prompt)\n",
    "    next_prompt = question\n",
    "    while i < max_turns:\n",
    "        i += 1\n",
    "        result = bot(next_prompt)\n",
    "        print(result)\n",
    "        actions = [\n",
    "            action_re.match(a)\n",
    "            for a in result.split('\\n')\n",
    "            if action_re.match(a)\n",
    "        ]\n",
    "        if actions:\n",
    "            # There is an action to run\n",
    "            action, action_input = actions[0].groups()\n",
    "            if action not in known_actions:\n",
    "                raise Exception(\"Unknown action: {}: {}\".format(action, action_input))\n",
    "            print(\" -- running {} {}\".format(action, action_input))\n",
    "            observation = known_actions[action](action_input)\n",
    "            print(\"Observation:\", observation)\n",
    "            next_prompt = \"Observation: {}\".format(observation)\n",
    "        else:\n",
    "            return\n"
   ]
  },
  {
   "cell_type": "markdown",
   "id": "8e9b7314",
   "metadata": {},
   "source": [
    "##### 6. Testing"
   ]
  },
  {
   "cell_type": "code",
   "execution_count": 17,
   "id": "7e30a2df",
   "metadata": {},
   "outputs": [
    {
     "name": "stdout",
     "output_type": "stream",
     "text": [
      "Thought: I should use the `average_dog_weight` action to find the average weight of a toy poodle.\n",
      "\n",
      "Action: average_dog_weight: Toy Poodle\n",
      "PAUSE\n",
      "\n"
     ]
    }
   ],
   "source": [
    "# Initialize the agent\n",
    "abot = Agent(prompt)\n",
    "\n",
    "result = abot(\"How much does a toy poodle weigh?\")\n",
    "print(result)"
   ]
  },
  {
   "cell_type": "code",
   "execution_count": 18,
   "id": "37418c1a",
   "metadata": {},
   "outputs": [
    {
     "data": {
      "text/plain": [
       "'Answer: A toy poodle weighs approximately 7 lbs.\\n'"
      ]
     },
     "execution_count": 18,
     "metadata": {},
     "output_type": "execute_result"
    }
   ],
   "source": [
    "result = average_dog_weight(\"Toy Poodle\")\n",
    "next_prompt = \"Observation: {}\".format(result)\n",
    "abot(next_prompt)"
   ]
  },
  {
   "cell_type": "code",
   "execution_count": 10,
   "id": "3249b4e2",
   "metadata": {},
   "outputs": [
    {
     "name": "stdout",
     "output_type": "stream",
     "text": [
      "Thought: I need to find the average weight of a Border Collie and a Scottish Terrier, then add them together.  I'll start with the Border Collie.\n",
      "Action: average_dog_weight: Border Collie\n",
      "PAUSE\n",
      "\n",
      " -- running average_dog_weight Border Collie\n",
      "Observation: a Border Collie's average weight is 37 lbs\n",
      "Thought: Now I need to find the average weight of a Scottish Terrier.\n",
      "Action: average_dog_weight: Scottish Terrier\n",
      "PAUSE\n",
      "\n",
      " -- running average_dog_weight Scottish Terrier\n",
      "Observation: Scottish Terriers average 20 lbs\n",
      "Thought: I have the average weights of both breeds, so I can add them together to get the combined weight.\n",
      "Action: calculate: 37 + 20\n",
      "PAUSE\n",
      "\n",
      " -- running calculate 37 + 20\n",
      "Observation: 57\n",
      "Answer: The combined average weight of a Border Collie and a Scottish Terrier is 57 lbs.\n",
      "\n"
     ]
    }
   ],
   "source": [
    "# Using query function\n",
    "\n",
    "question = \"I have 2 dogs, a border collie and a scottish terrier. What is their combined weight?\"\n",
    "query(question)"
   ]
  }
 ],
 "metadata": {
  "jupytext": {
   "cell_metadata_filter": "-all",
   "encoding": "# coding: utf-8",
   "main_language": "python",
   "notebook_metadata_filter": "-all"
  },
  "kernelspec": {
   "display_name": "myenv",
   "language": "python",
   "name": "python3"
  },
  "language_info": {
   "codemirror_mode": {
    "name": "ipython",
    "version": 3
   },
   "file_extension": ".py",
   "mimetype": "text/x-python",
   "name": "python",
   "nbconvert_exporter": "python",
   "pygments_lexer": "ipython3",
   "version": "3.12.3"
  }
 },
 "nbformat": 4,
 "nbformat_minor": 5
}
